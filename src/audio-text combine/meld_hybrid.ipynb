{
  "nbformat": 4,
  "nbformat_minor": 0,
  "metadata": {
    "colab": {
      "name": "meld_hybrid.ipynb",
      "provenance": [],
      "collapsed_sections": []
    },
    "kernelspec": {
      "display_name": "Python 3",
      "name": "python3"
    }
  },
  "cells": [
    {
      "cell_type": "markdown",
      "metadata": {
        "id": "0MkKtIAD8w74"
      },
      "source": [
        "RETRIEVING FEATURE VECTOR FROM TEXT- MODEL"
      ]
    },
    {
      "cell_type": "code",
      "metadata": {
        "colab": {
          "base_uri": "https://localhost:8080/"
        },
        "id": "YCn_1yxgMnfF",
        "outputId": "dba7d66a-4906-443a-e614-96ad7d3370ed"
      },
      "source": [
        "import pandas as pd\n",
        "import numpy as np\n",
        "import matplotlib.pyplot as plt\n",
        "from nltk.tokenize import word_tokenize\n",
        "from nltk.corpus import stopwords\n",
        "from nltk.stem import WordNetLemmatizer\n",
        "import nltk\n",
        "nltk.download('wordnet')\n",
        "from nltk.corpus import wordnet\n",
        "import random\n",
        "import re\n",
        "nltk.download('punkt')\n",
        "nltk.download('stopwords')\n",
        "stop_words = stopwords.words('english')\n",
        "lemmatizer = WordNetLemmatizer()"
      ],
      "execution_count": null,
      "outputs": [
        {
          "output_type": "stream",
          "text": [
            "[nltk_data] Downloading package wordnet to /root/nltk_data...\n",
            "[nltk_data]   Unzipping corpora/wordnet.zip.\n",
            "[nltk_data] Downloading package punkt to /root/nltk_data...\n",
            "[nltk_data]   Unzipping tokenizers/punkt.zip.\n",
            "[nltk_data] Downloading package stopwords to /root/nltk_data...\n",
            "[nltk_data]   Unzipping corpora/stopwords.zip.\n"
          ],
          "name": "stdout"
        }
      ]
    },
    {
      "cell_type": "code",
      "metadata": {
        "id": "bttd9GPcM4qf"
      },
      "source": [
        "#TEXT DATASET\n",
        "df = pd.read_excel(r'train_f.xlsx')\n"
      ],
      "execution_count": null,
      "outputs": []
    },
    {
      "cell_type": "code",
      "metadata": {
        "id": "nekyoU-O_SvC"
      },
      "source": [
        "#AUDIO FEATURE VECTOR\n",
        "data2=pd.read_excel(r'X_f.xlsx')"
      ],
      "execution_count": null,
      "outputs": []
    },
    {
      "cell_type": "code",
      "metadata": {
        "colab": {
          "base_uri": "https://localhost:8080/"
        },
        "id": "7TmYODa0-eAx",
        "outputId": "77586574-b234-49c1-c3a7-065a85ffef91"
      },
      "source": [
        "type(data2)"
      ],
      "execution_count": null,
      "outputs": [
        {
          "output_type": "execute_result",
          "data": {
            "text/plain": [
              "pandas.core.frame.DataFrame"
            ]
          },
          "metadata": {
            "tags": []
          },
          "execution_count": 4
        }
      ]
    },
    {
      "cell_type": "code",
      "metadata": {
        "colab": {
          "base_uri": "https://localhost:8080/",
          "height": 357
        },
        "id": "P1K6RDMLM-0l",
        "outputId": "95a0ec81-0419-4a74-a531-64b3c459a320"
      },
      "source": [
        "df.head()"
      ],
      "execution_count": null,
      "outputs": [
        {
          "output_type": "execute_result",
          "data": {
            "text/html": [
              "<div>\n",
              "<style scoped>\n",
              "    .dataframe tbody tr th:only-of-type {\n",
              "        vertical-align: middle;\n",
              "    }\n",
              "\n",
              "    .dataframe tbody tr th {\n",
              "        vertical-align: top;\n",
              "    }\n",
              "\n",
              "    .dataframe thead th {\n",
              "        text-align: right;\n",
              "    }\n",
              "</style>\n",
              "<table border=\"1\" class=\"dataframe\">\n",
              "  <thead>\n",
              "    <tr style=\"text-align: right;\">\n",
              "      <th></th>\n",
              "      <th>Sr No.</th>\n",
              "      <th>Utterance</th>\n",
              "      <th>Speaker</th>\n",
              "      <th>Emotion</th>\n",
              "      <th>Sentiment</th>\n",
              "      <th>Dialogue_ID</th>\n",
              "      <th>Utterance_ID</th>\n",
              "      <th>Season</th>\n",
              "      <th>Episode</th>\n",
              "      <th>StartTime</th>\n",
              "      <th>EndTime</th>\n",
              "    </tr>\n",
              "  </thead>\n",
              "  <tbody>\n",
              "    <tr>\n",
              "      <th>0</th>\n",
              "      <td>1</td>\n",
              "      <td>also I was the point person on my company’s tr...</td>\n",
              "      <td>Chandler</td>\n",
              "      <td>neutral</td>\n",
              "      <td>neutral</td>\n",
              "      <td>0</td>\n",
              "      <td>0</td>\n",
              "      <td>8</td>\n",
              "      <td>21</td>\n",
              "      <td>00:16:16,059</td>\n",
              "      <td>00:16:21,731</td>\n",
              "    </tr>\n",
              "    <tr>\n",
              "      <th>1</th>\n",
              "      <td>2</td>\n",
              "      <td>You must’ve had your hands full.</td>\n",
              "      <td>The Interviewer</td>\n",
              "      <td>neutral</td>\n",
              "      <td>neutral</td>\n",
              "      <td>0</td>\n",
              "      <td>1</td>\n",
              "      <td>8</td>\n",
              "      <td>21</td>\n",
              "      <td>00:16:21,940</td>\n",
              "      <td>00:16:23,442</td>\n",
              "    </tr>\n",
              "    <tr>\n",
              "      <th>2</th>\n",
              "      <td>3</td>\n",
              "      <td>That I did. That I did.</td>\n",
              "      <td>Chandler</td>\n",
              "      <td>neutral</td>\n",
              "      <td>neutral</td>\n",
              "      <td>0</td>\n",
              "      <td>2</td>\n",
              "      <td>8</td>\n",
              "      <td>21</td>\n",
              "      <td>00:16:23,442</td>\n",
              "      <td>00:16:26,389</td>\n",
              "    </tr>\n",
              "    <tr>\n",
              "      <th>3</th>\n",
              "      <td>4</td>\n",
              "      <td>So let’s talk a little bit about your duties.</td>\n",
              "      <td>The Interviewer</td>\n",
              "      <td>neutral</td>\n",
              "      <td>neutral</td>\n",
              "      <td>0</td>\n",
              "      <td>3</td>\n",
              "      <td>8</td>\n",
              "      <td>21</td>\n",
              "      <td>00:16:26,820</td>\n",
              "      <td>00:16:29,572</td>\n",
              "    </tr>\n",
              "    <tr>\n",
              "      <th>4</th>\n",
              "      <td>5</td>\n",
              "      <td>My duties?  All right.</td>\n",
              "      <td>Chandler</td>\n",
              "      <td>surprise</td>\n",
              "      <td>positive</td>\n",
              "      <td>0</td>\n",
              "      <td>4</td>\n",
              "      <td>8</td>\n",
              "      <td>21</td>\n",
              "      <td>00:16:34,452</td>\n",
              "      <td>00:16:40,917</td>\n",
              "    </tr>\n",
              "  </tbody>\n",
              "</table>\n",
              "</div>"
            ],
            "text/plain": [
              "   Sr No.  ...       EndTime\n",
              "0       1  ...  00:16:21,731\n",
              "1       2  ...  00:16:23,442\n",
              "2       3  ...  00:16:26,389\n",
              "3       4  ...  00:16:29,572\n",
              "4       5  ...  00:16:40,917\n",
              "\n",
              "[5 rows x 11 columns]"
            ]
          },
          "metadata": {
            "tags": []
          },
          "execution_count": 5
        }
      ]
    },
    {
      "cell_type": "code",
      "metadata": {
        "colab": {
          "base_uri": "https://localhost:8080/",
          "height": 265
        },
        "id": "458FCXZKNCJ_",
        "outputId": "0b12d153-c60f-4199-8c84-d1e73c637cb2"
      },
      "source": [
        "df.Emotion.hist()\n",
        "plt.show()"
      ],
      "execution_count": null,
      "outputs": [
        {
          "output_type": "display_data",
          "data": {
            "image/png": "[encoded data removed]",
            "text/plain": [
              "<Figure size 432x288 with 1 Axes>"
            ]
          },
          "metadata": {
            "tags": [],
            "needs_background": "light"
          }
        }
      ]
    },
    {
      "cell_type": "code",
      "metadata": {
        "colab": {
          "base_uri": "https://localhost:8080/"
        },
        "id": "ibfBY9nNNEvn",
        "outputId": "34a72ed6-b701-4fa7-ab61-9705f00828a3"
      },
      "source": [
        "df.Emotion.value_counts()"
      ],
      "execution_count": null,
      "outputs": [
        {
          "output_type": "execute_result",
          "data": {
            "text/plain": [
              "neutral     4709\n",
              "joy         1743\n",
              "surprise    1205\n",
              "anger       1109\n",
              "sadness      683\n",
              "disgust      271\n",
              "fear         268\n",
              "Name: Emotion, dtype: int64"
            ]
          },
          "metadata": {
            "tags": []
          },
          "execution_count": 7
        }
      ]
    },
    {
      "cell_type": "code",
      "metadata": {
        "id": "nCeNxJwwNG-l"
      },
      "source": [
        "def LabelFunc(rating):\n",
        "    if rating == 'neutral':\n",
        "        return 0\n",
        "    elif rating == 'anger':\n",
        "        return 1\n",
        "    elif rating == 'disgust':\n",
        "        return 2\n",
        "    elif rating == 'fear':\n",
        "        return 3\n",
        "    elif rating == 'joy':\n",
        "        return 4\n",
        "    elif rating == 'sadness':\n",
        "        return 5\n",
        "    elif rating == 'surprise':\n",
        "        return 6  \n",
        "\n",
        "df['Label'] = df['Emotion'].apply(LabelFunc)    "
      ],
      "execution_count": null,
      "outputs": []
    },
    {
      "cell_type": "code",
      "metadata": {
        "id": "-05BOI_gNIvk"
      },
      "source": [
        "df = df[['Utterance','Emotion','Label']]"
      ],
      "execution_count": null,
      "outputs": []
    },
    {
      "cell_type": "code",
      "metadata": {
        "colab": {
          "base_uri": "https://localhost:8080/",
          "height": 204
        },
        "id": "b6c12e33NL-Q",
        "outputId": "36be0702-768d-4253-e456-e68b0146e4e8"
      },
      "source": [
        "df.head()"
      ],
      "execution_count": null,
      "outputs": [
        {
          "output_type": "execute_result",
          "data": {
            "text/html": [
              "<div>\n",
              "<style scoped>\n",
              "    .dataframe tbody tr th:only-of-type {\n",
              "        vertical-align: middle;\n",
              "    }\n",
              "\n",
              "    .dataframe tbody tr th {\n",
              "        vertical-align: top;\n",
              "    }\n",
              "\n",
              "    .dataframe thead th {\n",
              "        text-align: right;\n",
              "    }\n",
              "</style>\n",
              "<table border=\"1\" class=\"dataframe\">\n",
              "  <thead>\n",
              "    <tr style=\"text-align: right;\">\n",
              "      <th></th>\n",
              "      <th>Utterance</th>\n",
              "      <th>Emotion</th>\n",
              "      <th>Label</th>\n",
              "    </tr>\n",
              "  </thead>\n",
              "  <tbody>\n",
              "    <tr>\n",
              "      <th>0</th>\n",
              "      <td>also I was the point person on my company’s tr...</td>\n",
              "      <td>neutral</td>\n",
              "      <td>0</td>\n",
              "    </tr>\n",
              "    <tr>\n",
              "      <th>1</th>\n",
              "      <td>You must’ve had your hands full.</td>\n",
              "      <td>neutral</td>\n",
              "      <td>0</td>\n",
              "    </tr>\n",
              "    <tr>\n",
              "      <th>2</th>\n",
              "      <td>That I did. That I did.</td>\n",
              "      <td>neutral</td>\n",
              "      <td>0</td>\n",
              "    </tr>\n",
              "    <tr>\n",
              "      <th>3</th>\n",
              "      <td>So let’s talk a little bit about your duties.</td>\n",
              "      <td>neutral</td>\n",
              "      <td>0</td>\n",
              "    </tr>\n",
              "    <tr>\n",
              "      <th>4</th>\n",
              "      <td>My duties?  All right.</td>\n",
              "      <td>surprise</td>\n",
              "      <td>6</td>\n",
              "    </tr>\n",
              "  </tbody>\n",
              "</table>\n",
              "</div>"
            ],
            "text/plain": [
              "                                           Utterance   Emotion  Label\n",
              "0  also I was the point person on my company’s tr...   neutral      0\n",
              "1                   You must’ve had your hands full.   neutral      0\n",
              "2                            That I did. That I did.   neutral      0\n",
              "3      So let’s talk a little bit about your duties.   neutral      0\n",
              "4                             My duties?  All right.  surprise      6"
            ]
          },
          "metadata": {
            "tags": []
          },
          "execution_count": 10
        }
      ]
    },
    {
      "cell_type": "code",
      "metadata": {
        "id": "W32mLt0_NNEo"
      },
      "source": [
        "appos = {\n",
        "\"aren't\" : \"are not\",\n",
        "\"can't\" : \"cannot\",\n",
        "\"couldn't\" : \"could not\",\n",
        "\"didn't\" : \"did not\",\n",
        "\"doesn't\" : \"does not\",\n",
        "\"don't\" : \"do not\",\n",
        "\"hadn't\" : \"had not\",\n",
        "\"hasn't\" : \"has not\",\n",
        "\"haven't\" : \"have not\",\n",
        "\"he'd\" : \"he would\",\n",
        "\"he'll\" : \"he will\",\n",
        "\"he's\" : \"he is\",\n",
        "\"i'd\" : \"I would\",\n",
        "\"i'd\" : \"I had\",\n",
        "\"i'll\" : \"I will\",\n",
        "\"i'm\" : \"I am\",\n",
        "\"isn't\" : \"is not\",\n",
        "\"it's\" : \"it is\",\n",
        "\"it'll\":\"it will\",\n",
        "\"i've\" : \"I have\",\n",
        "\"let's\" : \"let us\",\n",
        "\"mightn't\" : \"might not\",\n",
        "\"mustn't\" : \"must not\",\n",
        "\"shan't\" : \"shall not\",\n",
        "\"she'd\" : \"she would\",\n",
        "\"she'll\" : \"she will\",\n",
        "\"she's\" : \"she is\",\n",
        "\"shouldn't\" : \"should not\",\n",
        "\"that's\" : \"that is\",\n",
        "\"there's\" : \"there is\",\n",
        "\"they'd\" : \"they would\",\n",
        "\"they'll\" : \"they will\",\n",
        "\"they're\" : \"they are\",\n",
        "\"they've\" : \"they have\",\n",
        "\"we'd\" : \"we would\",\n",
        "\"we're\" : \"we are\",\n",
        "\"weren't\" : \"were not\",\n",
        "\"we've\" : \"we have\",\n",
        "\"what'll\" : \"what will\",\n",
        "\"what're\" : \"what are\",\n",
        "\"what's\" : \"what is\",\n",
        "\"what've\" : \"what have\",\n",
        "\"where's\" : \"where is\",\n",
        "\"who'd\" : \"who would\",\n",
        "\"who'll\" : \"who will\",\n",
        "\"who're\" : \"who are\",\n",
        "\"who's\" : \"who is\",\n",
        "\"who've\" : \"who have\",\n",
        "\"won't\" : \"will not\",\n",
        "\"wouldn't\" : \"would not\",\n",
        "\"you'd\" : \"you would\",\n",
        "\"you'll\" : \"you will\",\n",
        "\"you're\" : \"you are\",\n",
        "\"you've\" : \"you have\",\n",
        "\"'re\": \" are\",\n",
        "\"wasn't\": \"was not\",\n",
        "\"we'll\":\" will\",\n",
        "\"didn't\": \"did not\"\n",
        "}"
      ],
      "execution_count": null,
      "outputs": []
    },
    {
      "cell_type": "code",
      "metadata": {
        "id": "aat2u7UZNWkY"
      },
      "source": [
        "def clean_text(words):\n",
        "    words = re.sub(r'http\\S+', '', str(words))\n",
        "    words = words.lower()\n",
        "    words = word_tokenize(words)\n",
        "    words = [word for word in words if word.isalpha()]\n",
        "    reformed = [appos[word] if word in appos else word for word in words]\n",
        "    reformed = [lemmatizer.lemmatize(word) for word in reformed if word not in set(stop_words)]\n",
        "    reformed = [word for word in reformed if len(word) > 2]\n",
        "    #reformed = ' '.join(reformed)\n",
        "    return reformed\n",
        "\n",
        "df['CleanText'] = df['Utterance'].apply(clean_text)"
      ],
      "execution_count": null,
      "outputs": []
    },
    {
      "cell_type": "code",
      "metadata": {
        "id": "ejZjFV6aNbco"
      },
      "source": [
        "def clean_text(words):\n",
        "    #words = re.sub(r'http\\S+', '', words)\n",
        "    words=str(words)\n",
        "    words = words.lower()\n",
        "    words = word_tokenize(words)\n",
        "    words = [word for word in words if word.isalpha()]\n",
        "    reformed = [appos[word] if word in appos else word for word in words]\n",
        "    reformed = [lemmatizer.lemmatize(word) for word in reformed]\n",
        "    #reformed = [word for word in reformed if len(word) > 2]\n",
        "    #reformed = ' '.join(reformed)\n",
        "    return reformed\n",
        "\n",
        "df['CleanText_2'] = df['Utterance'].apply(clean_text)"
      ],
      "execution_count": null,
      "outputs": []
    },
    {
      "cell_type": "code",
      "metadata": {
        "colab": {
          "base_uri": "https://localhost:8080/",
          "height": 238
        },
        "id": "t2GFWV8WPw6f",
        "outputId": "3e98c6f5-110f-4ee2-c77d-2644d71cfd06"
      },
      "source": [
        "df.head()"
      ],
      "execution_count": null,
      "outputs": [
        {
          "output_type": "execute_result",
          "data": {
            "text/html": [
              "<div>\n",
              "<style scoped>\n",
              "    .dataframe tbody tr th:only-of-type {\n",
              "        vertical-align: middle;\n",
              "    }\n",
              "\n",
              "    .dataframe tbody tr th {\n",
              "        vertical-align: top;\n",
              "    }\n",
              "\n",
              "    .dataframe thead th {\n",
              "        text-align: right;\n",
              "    }\n",
              "</style>\n",
              "<table border=\"1\" class=\"dataframe\">\n",
              "  <thead>\n",
              "    <tr style=\"text-align: right;\">\n",
              "      <th></th>\n",
              "      <th>Utterance</th>\n",
              "      <th>Emotion</th>\n",
              "      <th>Label</th>\n",
              "      <th>CleanText</th>\n",
              "      <th>CleanText_2</th>\n",
              "    </tr>\n",
              "  </thead>\n",
              "  <tbody>\n",
              "    <tr>\n",
              "      <th>0</th>\n",
              "      <td>also I was the point person on my company’s tr...</td>\n",
              "      <td>neutral</td>\n",
              "      <td>0</td>\n",
              "      <td>[also, point, person, company, transition, sys...</td>\n",
              "      <td>[also, i, wa, the, point, person, on, my, comp...</td>\n",
              "    </tr>\n",
              "    <tr>\n",
              "      <th>1</th>\n",
              "      <td>You must’ve had your hands full.</td>\n",
              "      <td>neutral</td>\n",
              "      <td>0</td>\n",
              "      <td>[must, hand, full]</td>\n",
              "      <td>[you, must, ve, had, your, hand, full]</td>\n",
              "    </tr>\n",
              "    <tr>\n",
              "      <th>2</th>\n",
              "      <td>That I did. That I did.</td>\n",
              "      <td>neutral</td>\n",
              "      <td>0</td>\n",
              "      <td>[]</td>\n",
              "      <td>[that, i, did, that, i, did]</td>\n",
              "    </tr>\n",
              "    <tr>\n",
              "      <th>3</th>\n",
              "      <td>So let’s talk a little bit about your duties.</td>\n",
              "      <td>neutral</td>\n",
              "      <td>0</td>\n",
              "      <td>[let, talk, little, bit, duty]</td>\n",
              "      <td>[so, let, s, talk, a, little, bit, about, your...</td>\n",
              "    </tr>\n",
              "    <tr>\n",
              "      <th>4</th>\n",
              "      <td>My duties?  All right.</td>\n",
              "      <td>surprise</td>\n",
              "      <td>6</td>\n",
              "      <td>[duty, right]</td>\n",
              "      <td>[my, duty, all, right]</td>\n",
              "    </tr>\n",
              "  </tbody>\n",
              "</table>\n",
              "</div>"
            ],
            "text/plain": [
              "                                           Utterance  ...                                        CleanText_2\n",
              "0  also I was the point person on my company’s tr...  ...  [also, i, wa, the, point, person, on, my, comp...\n",
              "1                   You must’ve had your hands full.  ...             [you, must, ve, had, your, hand, full]\n",
              "2                            That I did. That I did.  ...                       [that, i, did, that, i, did]\n",
              "3      So let’s talk a little bit about your duties.  ...  [so, let, s, talk, a, little, bit, about, your...\n",
              "4                             My duties?  All right.  ...                             [my, duty, all, right]\n",
              "\n",
              "[5 rows x 5 columns]"
            ]
          },
          "metadata": {
            "tags": []
          },
          "execution_count": 14
        }
      ]
    },
    {
      "cell_type": "code",
      "metadata": {
        "colab": {
          "base_uri": "https://localhost:8080/"
        },
        "id": "BCrU_meS-rUa",
        "outputId": "8be62b21-ea8f-4135-e0fc-eff167e969ca"
      },
      "source": [
        "np.shape(df)"
      ],
      "execution_count": null,
      "outputs": [
        {
          "output_type": "execute_result",
          "data": {
            "text/plain": [
              "(9988, 5)"
            ]
          },
          "metadata": {
            "tags": []
          },
          "execution_count": 15
        }
      ]
    },
    {
      "cell_type": "code",
      "metadata": {
        "colab": {
          "base_uri": "https://localhost:8080/"
        },
        "id": "ihqlW13fBywG",
        "outputId": "e61ce88f-4473-495a-d6a8-f3599bb82094"
      },
      "source": [
        "np.shape(df)"
      ],
      "execution_count": null,
      "outputs": [
        {
          "output_type": "execute_result",
          "data": {
            "text/plain": [
              "(9988, 5)"
            ]
          },
          "metadata": {
            "tags": []
          },
          "execution_count": 16
        }
      ]
    },
    {
      "cell_type": "code",
      "metadata": {
        "id": "pRA9m-VUPxBt"
      },
      "source": [
        "all_words = []\n",
        "\n",
        "for sentence in df['CleanText_2']:\n",
        "    for word in sentence:\n",
        "        all_words.append(word)"
      ],
      "execution_count": null,
      "outputs": []
    },
    {
      "cell_type": "code",
      "metadata": {
        "colab": {
          "base_uri": "https://localhost:8080/"
        },
        "id": "rC9THkzVPxIk",
        "outputId": "ecd80c16-b9d9-4d13-889b-64fcafe0ae43"
      },
      "source": [
        "len(all_words)"
      ],
      "execution_count": null,
      "outputs": [
        {
          "output_type": "execute_result",
          "data": {
            "text/plain": [
              "81628"
            ]
          },
          "metadata": {
            "tags": []
          },
          "execution_count": 18
        }
      ]
    },
    {
      "cell_type": "code",
      "metadata": {
        "id": "5PdvQdNZPxM6"
      },
      "source": [
        "all_words = nltk.FreqDist(all_words)"
      ],
      "execution_count": null,
      "outputs": []
    },
    {
      "cell_type": "code",
      "metadata": {
        "id": "ErhWhdNqPxQ4"
      },
      "source": [
        "word_features = list(all_words.keys())[:3000]\n"
      ],
      "execution_count": null,
      "outputs": []
    },
    {
      "cell_type": "code",
      "metadata": {
        "id": "jikxyef7PxS1"
      },
      "source": [
        "def find_features(document):\n",
        "    words = set(document)\n",
        "    features = {}\n",
        "    for w in word_features:\n",
        "        features[w] = (w in words)\n",
        "    return features    "
      ],
      "execution_count": null,
      "outputs": []
    },
    {
      "cell_type": "code",
      "metadata": {
        "id": "6WNcz1TmPxVR"
      },
      "source": [
        "\n",
        "featuresets = []\n",
        "for i in range(0,9988):\n",
        "    featuresets.append(find_features(df['CleanText'][i]))\n",
        "    "
      ],
      "execution_count": null,
      "outputs": []
    },
    {
      "cell_type": "code",
      "metadata": {
        "id": "VGkizDosLTHh"
      },
      "source": [
        "featuresets[featuresets is 'True']=1\n"
      ],
      "execution_count": null,
      "outputs": []
    },
    {
      "cell_type": "code",
      "metadata": {
        "id": "ZFravL7xiF0V"
      },
      "source": [
        "p=[]\n",
        "for i in range(0,9988):\n",
        "    p.append(find_features(df['CleanText'][i]))"
      ],
      "execution_count": null,
      "outputs": []
    },
    {
      "cell_type": "code",
      "metadata": {
        "id": "fzR8hwcuvuhg"
      },
      "source": [
        "pt = pd.DataFrame.from_dict(p)"
      ],
      "execution_count": null,
      "outputs": []
    },
    {
      "cell_type": "code",
      "metadata": {
        "colab": {
          "base_uri": "https://localhost:8080/"
        },
        "id": "iGWwIGjvv3ZD",
        "outputId": "ecc99cc5-0af7-408c-e324-ed1df31250f8"
      },
      "source": [
        "pt.head"
      ],
      "execution_count": null,
      "outputs": [
        {
          "output_type": "execute_result",
          "data": {
            "text/plain": [
              "<bound method NDFrame.head of        also      i     wa    the  ...  clunked  massager  reach  originated\n",
              "0      True  False  False  False  ...    False     False  False       False\n",
              "1     False  False  False  False  ...    False     False  False       False\n",
              "2     False  False  False  False  ...    False     False  False       False\n",
              "3     False  False  False  False  ...    False     False  False       False\n",
              "4     False  False  False  False  ...    False     False  False       False\n",
              "...     ...    ...    ...    ...  ...      ...       ...    ...         ...\n",
              "9983  False  False  False  False  ...    False     False  False       False\n",
              "9984  False  False  False  False  ...    False     False  False       False\n",
              "9985  False  False  False  False  ...    False     False  False       False\n",
              "9986  False  False  False  False  ...    False     False  False       False\n",
              "9987  False  False  False  False  ...    False     False  False       False\n",
              "\n",
              "[9988 rows x 3000 columns]>"
            ]
          },
          "metadata": {
            "tags": []
          },
          "execution_count": 26
        }
      ]
    },
    {
      "cell_type": "code",
      "metadata": {
        "colab": {
          "base_uri": "https://localhost:8080/"
        },
        "id": "AbjEgFwNXLz4",
        "outputId": "f4fa6637-c5b8-4b74-8c2a-b3a7d00196de"
      },
      "source": [
        "data2.head"
      ],
      "execution_count": null,
      "outputs": [
        {
          "output_type": "execute_result",
          "data": {
            "text/plain": [
              "<bound method NDFrame.head of                A           B          C  ...         W         X         Y\n",
              "0    -255.351929   82.432297 -10.847765  ... -7.736582 -0.853770 -2.403830\n",
              "1    -314.422607   76.624565   3.267509  ... -1.671536 -1.834447 -6.261665\n",
              "2    -337.287720   85.001938 -13.733443  ... -5.338048  0.575601 -2.645268\n",
              "3    -314.957336   67.251106  -3.459231  ... -6.623580  0.969543 -5.293625\n",
              "4    -242.165955  108.606956 -50.430260  ... -3.616937 -0.453000 -4.522639\n",
              "...          ...         ...        ...  ...       ...       ...       ...\n",
              "9983 -320.050293  103.394821  -8.692819  ... -1.575685  0.152027 -4.704655\n",
              "9984 -316.432007  125.600075 -13.504161  ...  1.186057  2.564477 -6.105402\n",
              "9985 -254.105469  124.081856 -26.436478  ... -3.156023  0.023220 -3.793784\n",
              "9986 -195.453934  106.463409 -48.479904  ... -4.375590 -0.210245 -3.489197\n",
              "9987 -258.105988  120.356956 -17.230938  ... -5.895321 -2.544011 -4.447517\n",
              "\n",
              "[9988 rows x 25 columns]>"
            ]
          },
          "metadata": {
            "tags": []
          },
          "execution_count": 27
        }
      ]
    },
    {
      "cell_type": "markdown",
      "metadata": {
        "id": "gGomq9wl-1wg"
      },
      "source": [
        "DATA PRE-PROCESSING"
      ]
    },
    {
      "cell_type": "code",
      "metadata": {
        "id": "E3YIzioTYtty"
      },
      "source": [
        "import pandas as pd\n",
        "from sklearn.preprocessing import MinMaxScaler\n",
        "scaler = MinMaxScaler()\n",
        "cols_to_scale=['A','B','C','D','E','F','G','H','I','J','K','L','M','N','O','P','Q','R','S','T','U','V','W','X','Y']\n",
        "#dfTest = pd.DataFrame(\n",
        "#for col in cols_to_scale:\n",
        "\n",
        "data2[:] = pd.DataFrame(scaler.fit_transform(pd.DataFrame(data2[:])),columns=cols_to_scale)"
      ],
      "execution_count": null,
      "outputs": []
    },
    {
      "cell_type": "code",
      "metadata": {
        "id": "81OZQRUXcFBx"
      },
      "source": [
        "datta2 = pd.DataFrame(data = data2,columns = cols_to_scale)"
      ],
      "execution_count": null,
      "outputs": []
    },
    {
      "cell_type": "code",
      "metadata": {
        "colab": {
          "base_uri": "https://localhost:8080/"
        },
        "id": "IonqSsiNZE2s",
        "outputId": "440858ec-436b-47c4-92d8-6935e8e4c20a"
      },
      "source": [
        "datta2.head"
      ],
      "execution_count": null,
      "outputs": [
        {
          "output_type": "execute_result",
          "data": {
            "text/plain": [
              "<bound method NDFrame.head of        A         B         C         D  ...         V         W         X         Y\n",
              "0    NaN  0.599027  0.543394  0.736981  ...  0.552029  0.279050  0.352136  0.477939\n",
              "1    NaN  0.561472  0.659028  0.654776  ...  0.492100  0.464022  0.314978  0.340280\n",
              "2    NaN  0.615643  0.519754  0.571349  ...  0.455221  0.352200  0.406296  0.469324\n",
              "3    NaN  0.500859  0.603922  0.661023  ...  0.534318  0.312994  0.421223  0.374823\n",
              "4    NaN  0.768282  0.219128  0.405348  ...  0.482769  0.404691  0.367322  0.402334\n",
              "...   ..       ...       ...       ...  ...       ...       ...       ...       ...\n",
              "9983 NaN  0.734578  0.561047  0.526931  ...  0.549023  0.466945  0.390247  0.395839\n",
              "9984 NaN  0.878166  0.521632  0.626588  ...  0.542494  0.551173  0.481657  0.345856\n",
              "9985 NaN  0.868349  0.415688  0.538533  ...  0.433941  0.418748  0.385366  0.428341\n",
              "9986 NaN  0.754421  0.235105  0.488357  ...  0.480681  0.381553  0.376520  0.439210\n",
              "9987 NaN  0.844262  0.491102  0.595774  ...  0.494748  0.335204  0.288092  0.405014\n",
              "\n",
              "[9988 rows x 25 columns]>"
            ]
          },
          "metadata": {
            "tags": []
          },
          "execution_count": 30
        }
      ]
    },
    {
      "cell_type": "code",
      "metadata": {
        "id": "2tPb9GmkU3Q8"
      },
      "source": [
        "data3=pd.concat([datta2,pt],ignore_index=True,axis=1)\n"
      ],
      "execution_count": null,
      "outputs": []
    },
    {
      "cell_type": "code",
      "metadata": {
        "id": "OwpslXnnkpi_"
      },
      "source": [
        "ddl=datta2.iloc[:,1:].values\n",
        "ptdl=pt.iloc[:,:].values"
      ],
      "execution_count": null,
      "outputs": []
    },
    {
      "cell_type": "code",
      "metadata": {
        "colab": {
          "base_uri": "https://localhost:8080/"
        },
        "id": "xv-H0tzbXldp",
        "outputId": "a4f00836-95c4-453c-b49d-1ba1307102cb"
      },
      "source": [
        "data3.head"
      ],
      "execution_count": null,
      "outputs": [
        {
          "output_type": "execute_result",
          "data": {
            "text/plain": [
              "<bound method NDFrame.head of       0         1         2         3     ...   3021   3022   3023   3024\n",
              "0      NaN  0.599027  0.543394  0.736981  ...  False  False  False  False\n",
              "1      NaN  0.561472  0.659028  0.654776  ...  False  False  False  False\n",
              "2      NaN  0.615643  0.519754  0.571349  ...  False  False  False  False\n",
              "3      NaN  0.500859  0.603922  0.661023  ...  False  False  False  False\n",
              "4      NaN  0.768282  0.219128  0.405348  ...  False  False  False  False\n",
              "...    ...       ...       ...       ...  ...    ...    ...    ...    ...\n",
              "9983   NaN  0.734578  0.561047  0.526931  ...  False  False  False  False\n",
              "9984   NaN  0.878166  0.521632  0.626588  ...  False  False  False  False\n",
              "9985   NaN  0.868349  0.415688  0.538533  ...  False  False  False  False\n",
              "9986   NaN  0.754421  0.235105  0.488357  ...  False  False  False  False\n",
              "9987   NaN  0.844262  0.491102  0.595774  ...  False  False  False  False\n",
              "\n",
              "[9988 rows x 3025 columns]>"
            ]
          },
          "metadata": {
            "tags": []
          },
          "execution_count": 32
        }
      ]
    },
    {
      "cell_type": "code",
      "metadata": {
        "colab": {
          "base_uri": "https://localhost:8080/"
        },
        "id": "ylCzEECmPxXq",
        "outputId": "32bc6071-cd7c-483e-e1a4-eb6f7cfa88f5"
      },
      "source": [
        "data_d= data3.iloc[:,1:].values\n",
        "type(data_d)\n"
      ],
      "execution_count": null,
      "outputs": [
        {
          "output_type": "execute_result",
          "data": {
            "text/plain": [
              "numpy.ndarray"
            ]
          },
          "metadata": {
            "tags": []
          },
          "execution_count": 33
        }
      ]
    },
    {
      "cell_type": "code",
      "metadata": {
        "id": "Pgnxfi0zJC1E",
        "colab": {
          "base_uri": "https://localhost:8080/"
        },
        "outputId": "63886d28-ecea-4f81-fca2-17d598a22d5a"
      },
      "source": [
        "(data_d[0][0])"
      ],
      "execution_count": null,
      "outputs": [
        {
          "output_type": "execute_result",
          "data": {
            "text/plain": [
              "0.5990265705167975"
            ]
          },
          "metadata": {
            "tags": []
          },
          "execution_count": 34
        }
      ]
    },
    {
      "cell_type": "code",
      "metadata": {
        "colab": {
          "base_uri": "https://localhost:8080/"
        },
        "id": "Hfg_IV5LZLpi",
        "outputId": "dad48733-d635-4e6f-8458-92e694eae710"
      },
      "source": [
        "y=pd.DataFrame.from_dict(df['Label'])\n",
        "yy=y.iloc[:,:].values\n",
        "type(yy)"
      ],
      "execution_count": null,
      "outputs": [
        {
          "output_type": "execute_result",
          "data": {
            "text/plain": [
              "numpy.ndarray"
            ]
          },
          "metadata": {
            "tags": []
          },
          "execution_count": 35
        }
      ]
    },
    {
      "cell_type": "code",
      "metadata": {
        "id": "4-IaaaDQISvN",
        "colab": {
          "base_uri": "https://localhost:8080/"
        },
        "outputId": "a49105cb-da50-4ed1-8f4d-30c80d47f3a2"
      },
      "source": [
        "yyy=np.array(y)\n",
        "yyy[0:2]"
      ],
      "execution_count": null,
      "outputs": [
        {
          "output_type": "execute_result",
          "data": {
            "text/plain": [
              "array([[0],\n",
              "       [0]])"
            ]
          },
          "metadata": {
            "tags": []
          },
          "execution_count": 36
        }
      ]
    },
    {
      "cell_type": "code",
      "metadata": {
        "id": "v4ddDHgNIUqk"
      },
      "source": [
        "from sklearn.model_selection import train_test_split\n",
        "\n",
        "train, test, train_labels, test_labels = train_test_split(data_d,\n",
        "                                                          yy,\n",
        "                                                          test_size=0.199,\n",
        "                                                          random_state=0)"
      ],
      "execution_count": null,
      "outputs": []
    },
    {
      "cell_type": "code",
      "metadata": {
        "id": "QUY_JFlpc0yp"
      },
      "source": [
        "np.shape(test)"
      ],
      "execution_count": null,
      "outputs": []
    },
    {
      "cell_type": "markdown",
      "metadata": {
        "id": "qevepmP59utg"
      },
      "source": [
        "SVM CLASSIFIER"
      ]
    },
    {
      "cell_type": "code",
      "metadata": {
        "colab": {
          "base_uri": "https://localhost:8080/"
        },
        "id": "ASgYM5a0hB_w",
        "outputId": "c4ad9b86-e9ff-42ec-95bd-82f2350ca8d8"
      },
      "source": [
        "from sklearn import svm \n",
        "clfb = svm.SVC(kernel='rbf')\n",
        "clfb.fit(train,train_labels)\n",
        "\n"
      ],
      "execution_count": null,
      "outputs": [
        {
          "output_type": "stream",
          "text": [
            "/usr/local/lib/python3.6/dist-packages/sklearn/utils/validation.py:760: DataConversionWarning: A column-vector y was passed when a 1d array was expected. Please change the shape of y to (n_samples, ), for example using ravel().\n",
            "  y = column_or_1d(y, warn=True)\n"
          ],
          "name": "stderr"
        },
        {
          "output_type": "execute_result",
          "data": {
            "text/plain": [
              "SVC(C=1.0, break_ties=False, cache_size=200, class_weight=None, coef0=0.0,\n",
              "    decision_function_shape='ovr', degree=3, gamma='scale', kernel='rbf',\n",
              "    max_iter=-1, probability=False, random_state=None, shrinking=True,\n",
              "    tol=0.001, verbose=False)"
            ]
          },
          "metadata": {
            "tags": []
          },
          "execution_count": 41
        }
      ]
    },
    {
      "cell_type": "code",
      "metadata": {
        "colab": {
          "base_uri": "https://localhost:8080/"
        },
        "id": "5EqPHRr_wiW3",
        "outputId": "7420c3e2-e52f-47ce-d4fd-c04bb91c59ed"
      },
      "source": [
        "y_predb=clfb.predict(test)\n",
        "from sklearn.metrics import confusion_matrix\n",
        "from sklearn import metrics\n",
        "print(\"Accuracy:\",metrics.accuracy_score(test_labels, y_predb))\n",
        "cmb=confusion_matrix(test_labels,y_predb)\n",
        "cmb"
      ],
      "execution_count": null,
      "outputs": [
        {
          "output_type": "stream",
          "text": [
            "Accuracy: 0.5005030181086519\n"
          ],
          "name": "stdout"
        },
        {
          "output_type": "execute_result",
          "data": {
            "text/plain": [
              "array([[887,   0,   0,   0,  16,   8,   3],\n",
              "       [240,   1,   0,   0,   3,   2,   3],\n",
              "       [ 49,   0,   0,   0,   1,   0,   3],\n",
              "       [ 55,   0,   0,   0,   1,   2,   4],\n",
              "       [296,   0,   0,   0,  49,   1,   7],\n",
              "       [111,   1,   0,   0,   6,  14,   2],\n",
              "       [173,   0,   0,   0,   4,   2,  44]])"
            ]
          },
          "metadata": {
            "tags": []
          },
          "execution_count": 42
        }
      ]
    },
    {
      "cell_type": "code",
      "metadata": {
        "colab": {
          "base_uri": "https://localhost:8080/",
          "height": 282
        },
        "id": "M_iz1L1cHweI",
        "outputId": "9bc7ba5d-7587-43cd-ecca-77f1e958ec8b"
      },
      "source": [
        "import seaborn as sns\n",
        "sns.heatmap(cmb,cmap=\"coolwarm\")"
      ],
      "execution_count": null,
      "outputs": [
        {
          "output_type": "execute_result",
          "data": {
            "text/plain": [
              "<matplotlib.axes._subplots.AxesSubplot at 0x7f45d4144940>"
            ]
          },
          "metadata": {
            "tags": []
          },
          "execution_count": 48
        },
        {
          "output_type": "display_data",
          "data": {
            "image/png": "[encoded data removed]",
            "text/plain": [
              "<Figure size 432x288 with 2 Axes>"
            ]
          },
          "metadata": {
            "tags": [],
            "needs_background": "light"
          }
        }
      ]
    },
    {
      "cell_type": "markdown",
      "metadata": {
        "id": "OpNJX34T9zw8"
      },
      "source": [
        "K NEAREST NEIGHBOURS"
      ]
    },
    {
      "cell_type": "code",
      "metadata": {
        "colab": {
          "base_uri": "https://localhost:8080/"
        },
        "id": "yLjaYQbZ1FVn",
        "outputId": "a2000d59-ae25-43e0-8b61-55e733c5b1c7"
      },
      "source": [
        "from sklearn.neighbors import KNeighborsClassifier\n",
        "\n",
        "model = KNeighborsClassifier(n_neighbors=7)\n",
        "\n",
        "# Train the model using the training sets\n",
        "model.fit(train,train_labels)\n",
        "\n",
        "#Predict Output\n",
        "predicted= model.predict(test) # 0:Overcast, 2:Mild\n",
        "print(predicted)"
      ],
      "execution_count": null,
      "outputs": [
        {
          "output_type": "stream",
          "text": [
            "/usr/local/lib/python3.6/dist-packages/ipykernel_launcher.py:6: DataConversionWarning: A column-vector y was passed when a 1d array was expected. Please change the shape of y to (n_samples, ), for example using ravel().\n",
            "  \n"
          ],
          "name": "stderr"
        },
        {
          "output_type": "stream",
          "text": [
            "[0 0 0 ... 0 0 0]\n"
          ],
          "name": "stdout"
        }
      ]
    },
    {
      "cell_type": "code",
      "metadata": {
        "colab": {
          "base_uri": "https://localhost:8080/"
        },
        "id": "B3aOlVGX1F-t",
        "outputId": "0a20ec02-74da-4fcf-f9d9-76782543d4d0"
      },
      "source": [
        "from sklearn import metrics\n",
        "# Model Accuracy, how often is the classifier correct?\n",
        "print(\"Accuracy:\",metrics.accuracy_score(test_labels, predicted))\n",
        "cmb=confusion_matrix(test_labels,predicted)\n",
        "cmb"
      ],
      "execution_count": null,
      "outputs": [
        {
          "output_type": "stream",
          "text": [
            "Accuracy: 0.4783702213279678\n"
          ],
          "name": "stdout"
        },
        {
          "output_type": "execute_result",
          "data": {
            "text/plain": [
              "array([[796,  17,   1,   1,  40,   8,  51],\n",
              "       [196,  10,   1,   0,  18,   0,  24],\n",
              "       [ 47,   2,   0,   0,   0,   0,   4],\n",
              "       [ 50,   1,   0,   1,   1,   2,   7],\n",
              "       [257,   9,   0,   1,  62,   1,  23],\n",
              "       [ 99,   4,   1,   0,   5,   7,  18],\n",
              "       [135,   4,   0,   0,   6,   3,  75]])"
            ]
          },
          "metadata": {
            "tags": []
          },
          "execution_count": 50
        }
      ]
    },
    {
      "cell_type": "code",
      "metadata": {
        "colab": {
          "base_uri": "https://localhost:8080/",
          "height": 282
        },
        "id": "qr00npds1GQ7",
        "outputId": "9d75e136-4270-446d-95de-b1ae4d9a399e"
      },
      "source": [
        "sns.heatmap(cmb,cmap=\"coolwarm\")"
      ],
      "execution_count": null,
      "outputs": [
        {
          "output_type": "execute_result",
          "data": {
            "text/plain": [
              "<matplotlib.axes._subplots.AxesSubplot at 0x7f45d3293588>"
            ]
          },
          "metadata": {
            "tags": []
          },
          "execution_count": 52
        },
        {
          "output_type": "display_data",
          "data": {
            "image/png": "[encoded data removed]",
            "text/plain": [
              "<Figure size 432x288 with 2 Axes>"
            ]
          },
          "metadata": {
            "tags": [],
            "needs_background": "light"
          }
        }
      ]
    },
    {
      "cell_type": "markdown",
      "metadata": {
        "id": "XKhjkls895Bt"
      },
      "source": [
        "MULTINOMIAL NAIVE BAYES"
      ]
    },
    {
      "cell_type": "code",
      "metadata": {
        "colab": {
          "base_uri": "https://localhost:8080/"
        },
        "id": "baSq088vl_Uq",
        "outputId": "64e39865-5dfd-4db1-c38c-d4937719217f"
      },
      "source": [
        "from sklearn.naive_bayes import MultinomialNB\n",
        "nbclf = MultinomialNB()\n",
        "nbclf.fit(train,train_labels)\n",
        "MultinomialNB()\n",
        "prenb=nbclf.predict(test)"
      ],
      "execution_count": null,
      "outputs": [
        {
          "output_type": "stream",
          "text": [
            "/usr/local/lib/python3.6/dist-packages/sklearn/utils/validation.py:760: DataConversionWarning: A column-vector y was passed when a 1d array was expected. Please change the shape of y to (n_samples, ), for example using ravel().\n",
            "  y = column_or_1d(y, warn=True)\n"
          ],
          "name": "stderr"
        }
      ]
    },
    {
      "cell_type": "code",
      "metadata": {
        "colab": {
          "base_uri": "https://localhost:8080/"
        },
        "id": "Z58PdeKssgGd",
        "outputId": "da731943-4efa-4f96-d693-e7b24517560c"
      },
      "source": [
        "from sklearn import metrics\n",
        "from sklearn.metrics import confusion_matrix\n",
        "from sklearn.metrics import accuracy_score\n",
        "print(\"Accuracy:\",metrics.accuracy_score(test_labels, prenb))\n",
        "cmb=confusion_matrix(test_labels,prenb)\n",
        "cmb"
      ],
      "execution_count": null,
      "outputs": [
        {
          "output_type": "stream",
          "text": [
            "Accuracy: 0.48541247484909456\n"
          ],
          "name": "stdout"
        },
        {
          "output_type": "execute_result",
          "data": {
            "text/plain": [
              "array([[840,  22,   0,   0,  35,   5,  12],\n",
              "       [215,   9,   0,   0,   9,   2,  14],\n",
              "       [ 44,   1,   0,   0,   3,   0,   5],\n",
              "       [ 55,   1,   0,   0,   2,   0,   4],\n",
              "       [266,   2,   0,   0,  75,   5,   5],\n",
              "       [107,   6,   0,   0,  11,   3,   7],\n",
              "       [172,   4,   0,   0,   8,   1,  38]])"
            ]
          },
          "metadata": {
            "tags": []
          },
          "execution_count": 40
        }
      ]
    },
    {
      "cell_type": "code",
      "metadata": {
        "id": "pX-fSnfzKSHs",
        "colab": {
          "base_uri": "https://localhost:8080/",
          "height": 282
        },
        "outputId": "19ef78ad-15a0-480a-fe8e-ae19606c6465"
      },
      "source": [
        "import seaborn as sns\n",
        "sns.heatmap(cmb,cmap=\"coolwarm\")"
      ],
      "execution_count": null,
      "outputs": [
        {
          "output_type": "execute_result",
          "data": {
            "text/plain": [
              "<matplotlib.axes._subplots.AxesSubplot at 0x7f9443b58eb8>"
            ]
          },
          "metadata": {
            "tags": []
          },
          "execution_count": 41
        },
        {
          "output_type": "display_data",
          "data": {
            "image/png": "[encoded data removed]",
            "text/plain": [
              "<Figure size 432x288 with 2 Axes>"
            ]
          },
          "metadata": {
            "tags": [],
            "needs_background": "light"
          }
        }
      ]
    },
    {
      "cell_type": "markdown",
      "metadata": {
        "id": "oHx-wQCG-FUC"
      },
      "source": [
        "DECISION TREE"
      ]
    },
    {
      "cell_type": "code",
      "metadata": {
        "id": "b-UJlOwbskI5",
        "colab": {
          "base_uri": "https://localhost:8080/"
        },
        "outputId": "3d0f0866-2e11-434f-85e0-1511f4c6ec83"
      },
      "source": [
        "from sklearn.tree import DecisionTreeClassifier\n",
        "clf = DecisionTreeClassifier(max_depth=8)\n",
        "\n",
        "# Train Decision Tree Classifer\n",
        "clf = clf.fit(train,train_labels)\n",
        "\n",
        "#Predict the response for test dataset\n",
        "y_pred = clf.predict(test)\n",
        "print(\"Accuracy:\",metrics.accuracy_score(test_labels, y_pred))"
      ],
      "execution_count": null,
      "outputs": [
        {
          "output_type": "stream",
          "text": [
            "Accuracy: 0.4768611670020121\n"
          ],
          "name": "stdout"
        }
      ]
    },
    {
      "cell_type": "code",
      "metadata": {
        "id": "g5etwuzjKZm2",
        "colab": {
          "base_uri": "https://localhost:8080/"
        },
        "outputId": "1c118c23-568e-4cb7-f9f4-eb124e504aec"
      },
      "source": [
        "cmb=confusion_matrix(test_labels,y_pred)\n",
        "cmb"
      ],
      "execution_count": null,
      "outputs": [
        {
          "output_type": "execute_result",
          "data": {
            "text/plain": [
              "array([[883,  11,   0,   0,  13,   5,   2],\n",
              "       [236,   8,   0,   0,   2,   1,   2],\n",
              "       [ 48,   2,   0,   0,   1,   0,   2],\n",
              "       [ 54,   4,   0,   0,   1,   1,   2],\n",
              "       [311,   6,   0,   0,  27,   1,   8],\n",
              "       [118,   3,   0,   0,   6,   4,   3],\n",
              "       [179,   7,   0,   0,   5,   6,  26]])"
            ]
          },
          "metadata": {
            "tags": []
          },
          "execution_count": 58
        }
      ]
    },
    {
      "cell_type": "code",
      "metadata": {
        "id": "gPws2WxLKb1a",
        "colab": {
          "base_uri": "https://localhost:8080/",
          "height": 282
        },
        "outputId": "ab616c3c-290a-4a90-8a5a-fb8396a78bd8"
      },
      "source": [
        "sns.heatmap(cmb,cmap=\"coolwarm\")"
      ],
      "execution_count": null,
      "outputs": [
        {
          "output_type": "execute_result",
          "data": {
            "text/plain": [
              "<matplotlib.axes._subplots.AxesSubplot at 0x7f45d30f3940>"
            ]
          },
          "metadata": {
            "tags": []
          },
          "execution_count": 59
        },
        {
          "output_type": "display_data",
          "data": {
            "image/png": "[encoded data removed]",
            "text/plain": [
              "<Figure size 432x288 with 2 Axes>"
            ]
          },
          "metadata": {
            "tags": [],
            "needs_background": "light"
          }
        }
      ]
    },
    {
      "cell_type": "markdown",
      "metadata": {
        "id": "ujEE-YQHd2aY"
      },
      "source": [
        "BOOSTING TECHNIQUE-XGBOOST\n"
      ]
    },
    {
      "cell_type": "code",
      "metadata": {
        "id": "sc8lY0OZkL5N"
      },
      "source": [
        "np.shape(train)"
      ],
      "execution_count": null,
      "outputs": []
    },
    {
      "cell_type": "code",
      "metadata": {
        "id": "i0jUja6Jpr_x"
      },
      "source": [
        "#trying to apply XGBOOST\n",
        "\n",
        "#pip install xgboost\n",
        "#pip install --upgrade xgboost\n",
        "import xgboost as xgb"
      ],
      "execution_count": null,
      "outputs": []
    },
    {
      "cell_type": "code",
      "metadata": {
        "colab": {
          "base_uri": "https://localhost:8080/"
        },
        "id": "C-KdjuvHqAr1",
        "outputId": "34615177-9235-4ad8-dbe1-8f78c8403b6a"
      },
      "source": [
        "\n",
        "from xgboost import XGBClassifier\n",
        "# fit model no training data\n",
        "model = XGBClassifier()\n",
        "model.fit(train, train_labels)"
      ],
      "execution_count": null,
      "outputs": [
        {
          "output_type": "stream",
          "text": [
            "/usr/local/lib/python3.6/dist-packages/sklearn/preprocessing/_label.py:235: DataConversionWarning: A column-vector y was passed when a 1d array was expected. Please change the shape of y to (n_samples, ), for example using ravel().\n",
            "  y = column_or_1d(y, warn=True)\n",
            "/usr/local/lib/python3.6/dist-packages/sklearn/preprocessing/_label.py:268: DataConversionWarning: A column-vector y was passed when a 1d array was expected. Please change the shape of y to (n_samples, ), for example using ravel().\n",
            "  y = column_or_1d(y, warn=True)\n"
          ],
          "name": "stderr"
        },
        {
          "output_type": "execute_result",
          "data": {
            "text/plain": [
              "XGBClassifier(base_score=0.5, booster='gbtree', colsample_bylevel=1,\n",
              "              colsample_bynode=1, colsample_bytree=1, gamma=0,\n",
              "              learning_rate=0.1, max_delta_step=0, max_depth=3,\n",
              "              min_child_weight=1, missing=None, n_estimators=100, n_jobs=1,\n",
              "              nthread=None, objective='multi:softprob', random_state=0,\n",
              "              reg_alpha=0, reg_lambda=1, scale_pos_weight=1, seed=None,\n",
              "              silent=None, subsample=1, verbosity=1)"
            ]
          },
          "metadata": {
            "tags": []
          },
          "execution_count": 61
        }
      ]
    },
    {
      "cell_type": "code",
      "metadata": {
        "id": "A3BtQmZEqRZ1"
      },
      "source": [
        "from sklearn.metrics import accuracy_score\n",
        "y_pred = model.predict(test)\n",
        "accuracy = accuracy_score(test_labels,y_pred)"
      ],
      "execution_count": null,
      "outputs": []
    },
    {
      "cell_type": "code",
      "metadata": {
        "colab": {
          "base_uri": "https://localhost:8080/"
        },
        "id": "Odxwfhi6s3i-",
        "outputId": "3944c564-3b6d-40f5-c97f-5d0b97e89f35"
      },
      "source": [
        "print(accuracy)\n",
        "cmb=confusion_matrix(test_labels,y_pred)\n",
        "cmb\n",
        "\n"
      ],
      "execution_count": null,
      "outputs": [
        {
          "output_type": "stream",
          "text": [
            "0.49446680080482897\n"
          ],
          "name": "stdout"
        },
        {
          "output_type": "execute_result",
          "data": {
            "text/plain": [
              "array([[870,  13,   1,   0,  23,   4,   3],\n",
              "       [226,  15,   0,   0,   2,   3,   3],\n",
              "       [ 46,   1,   0,   0,   2,   0,   4],\n",
              "       [ 52,   5,   0,   0,   1,   0,   4],\n",
              "       [280,  10,   0,   1,  50,   1,  11],\n",
              "       [111,   3,   0,   0,   7,   8,   5],\n",
              "       [175,   5,   0,   0,   1,   2,  40]])"
            ]
          },
          "metadata": {
            "tags": []
          },
          "execution_count": 63
        }
      ]
    },
    {
      "cell_type": "code",
      "metadata": {
        "id": "2-hhaDgGKm64",
        "colab": {
          "base_uri": "https://localhost:8080/",
          "height": 282
        },
        "outputId": "3e262319-9a4d-4113-8302-d82e3aa697b6"
      },
      "source": [
        "sns.heatmap(cmb,cmap=\"coolwarm\")"
      ],
      "execution_count": null,
      "outputs": [
        {
          "output_type": "execute_result",
          "data": {
            "text/plain": [
              "<matplotlib.axes._subplots.AxesSubplot at 0x7f45c96d54e0>"
            ]
          },
          "metadata": {
            "tags": []
          },
          "execution_count": 64
        },
        {
          "output_type": "display_data",
          "data": {
            "image/png": "[encoded data removed]",
            "text/plain": [
              "<Figure size 432x288 with 2 Axes>"
            ]
          },
          "metadata": {
            "tags": [],
            "needs_background": "light"
          }
        }
      ]
    },
    {
      "cell_type": "markdown",
      "metadata": {
        "id": "IjLXM3k7-Wal"
      },
      "source": [
        "RANDOM FOREST"
      ]
    },
    {
      "cell_type": "code",
      "metadata": {
        "colab": {
          "base_uri": "https://localhost:8080/"
        },
        "id": "y9VdZXaQtAkp",
        "outputId": "f88fb49f-e9d7-4613-8010-786ee1bb4a04"
      },
      "source": [
        "from sklearn.ensemble import RandomForestClassifier\n",
        "from sklearn.datasets import make_classification\n",
        "#X, y = make_classification(n_samples=1000, n_features=4,n_informative=2, n_redundant=0, random_state=0, shuffle=False)\n",
        "clf = RandomForestClassifier(max_depth=8, random_state=0)\n",
        "clf.fit(train, train_labels)\n",
        "\n"
      ],
      "execution_count": null,
      "outputs": [
        {
          "output_type": "stream",
          "text": [
            "/usr/local/lib/python3.6/dist-packages/ipykernel_launcher.py:5: DataConversionWarning: A column-vector y was passed when a 1d array was expected. Please change the shape of y to (n_samples,), for example using ravel().\n",
            "  \"\"\"\n"
          ],
          "name": "stderr"
        },
        {
          "output_type": "execute_result",
          "data": {
            "text/plain": [
              "RandomForestClassifier(bootstrap=True, ccp_alpha=0.0, class_weight=None,\n",
              "                       criterion='gini', max_depth=8, max_features='auto',\n",
              "                       max_leaf_nodes=None, max_samples=None,\n",
              "                       min_impurity_decrease=0.0, min_impurity_split=None,\n",
              "                       min_samples_leaf=1, min_samples_split=2,\n",
              "                       min_weight_fraction_leaf=0.0, n_estimators=100,\n",
              "                       n_jobs=None, oob_score=False, random_state=0, verbose=0,\n",
              "                       warm_start=False)"
            ]
          },
          "metadata": {
            "tags": []
          },
          "execution_count": 65
        }
      ]
    },
    {
      "cell_type": "code",
      "metadata": {
        "id": "7hMvyx8P_qOD"
      },
      "source": [
        "pred=clf.predict(test)\n",
        "accuracy = accuracy_score(test_labels,pred)"
      ],
      "execution_count": null,
      "outputs": []
    },
    {
      "cell_type": "code",
      "metadata": {
        "colab": {
          "base_uri": "https://localhost:8080/"
        },
        "id": "WD04uJxA_28A",
        "outputId": "051179b3-935a-4c28-f47e-cfd5effa66ea"
      },
      "source": [
        "print(accuracy)\n",
        "cmb=confusion_matrix(test_labels,pred)\n",
        "cmb\n"
      ],
      "execution_count": null,
      "outputs": [
        {
          "output_type": "stream",
          "text": [
            "0.4597585513078471\n"
          ],
          "name": "stdout"
        },
        {
          "output_type": "execute_result",
          "data": {
            "text/plain": [
              "array([[914,   0,   0,   0,   0,   0,   0],\n",
              "       [249,   0,   0,   0,   0,   0,   0],\n",
              "       [ 53,   0,   0,   0,   0,   0,   0],\n",
              "       [ 62,   0,   0,   0,   0,   0,   0],\n",
              "       [353,   0,   0,   0,   0,   0,   0],\n",
              "       [134,   0,   0,   0,   0,   0,   0],\n",
              "       [223,   0,   0,   0,   0,   0,   0]])"
            ]
          },
          "metadata": {
            "tags": []
          },
          "execution_count": 67
        }
      ]
    },
    {
      "cell_type": "code",
      "metadata": {
        "id": "42fE-u_GKvgs",
        "colab": {
          "base_uri": "https://localhost:8080/",
          "height": 282
        },
        "outputId": "f170e42b-7bc9-4944-8c5c-ca29bbd26a35"
      },
      "source": [
        "sns.heatmap(cmb,cmap=\"coolwarm\")"
      ],
      "execution_count": null,
      "outputs": [
        {
          "output_type": "execute_result",
          "data": {
            "text/plain": [
              "<matplotlib.axes._subplots.AxesSubplot at 0x7f45c93713c8>"
            ]
          },
          "metadata": {
            "tags": []
          },
          "execution_count": 68
        },
        {
          "output_type": "display_data",
          "data": {
            "image/png": "[encoded data removed]",
            "text/plain": [
              "<Figure size 432x288 with 2 Axes>"
            ]
          },
          "metadata": {
            "tags": [],
            "needs_background": "light"
          }
        }
      ]
    },
    {
      "cell_type": "markdown",
      "metadata": {
        "id": "NiQ9Txm8uA7f"
      },
      "source": [
        "Trying to apply 2nd approach-CNN MODEL\n"
      ]
    },
    {
      "cell_type": "code",
      "metadata": {
        "id": "JgTLJ5FDRVeg"
      },
      "source": [
        "import numpy as np\n",
        "import os\n",
        "import sys\n",
        "\n",
        "import wave\n",
        "import copy\n",
        "import math\n",
        "\n",
        "from keras.models import Sequential, Model\n",
        "from keras.layers.core import Dense, Activation\n",
        "from keras.layers import LSTM, Input, Flatten, Embedding, Convolution1D,Dropout\n",
        "from keras.layers.wrappers import TimeDistributed\n",
        "from keras.layers.convolutional import Conv2D\n",
        "from keras.layers import add, concatenate,Concatenate\n",
        "from keras.optimizers import SGD, Adam, RMSprop\n",
        "from keras.layers.normalization import BatchNormalization\n",
        "from sklearn.preprocessing import label_binarize\n",
        "from keras.preprocessing.text import Tokenizer\n",
        "from keras.preprocessing.sequence import pad_sequences\n",
        "from keras.preprocessing import sequence\n"
      ],
      "execution_count": null,
      "outputs": []
    },
    {
      "cell_type": "code",
      "metadata": {
        "id": "yDkUxlGJgITg"
      },
      "source": [
        ""
      ],
      "execution_count": null,
      "outputs": []
    },
    {
      "cell_type": "code",
      "metadata": {
        "colab": {
          "base_uri": "https://localhost:8080/"
        },
        "id": "Q-B3rNLFc_0o",
        "outputId": "1a39f5f0-308b-4544-f809-89b1c6fb4402"
      },
      "source": [
        "model_text = Sequential()\n",
        "#model.add(Embedding(2737, 128, input_length=MAX_SEQUENCE_LENGTH))\n",
        "model_text.add(Embedding(2736,\n",
        "                    128,input_length=500))\n",
        "model_text.add(Flatten())\n",
        "model_text.add(Dense(1024))\n",
        "model_text.add(Activation('relu'))\n",
        "model_text.add(Dropout(0.2))\n",
        "model_text.add(Dense(512))\n",
        "model_text.add(Activation('relu'))\n",
        "model_text.add(Dropout(0.2))\n",
        "model_text.add(Dense(256))\n",
        "\n",
        "\n",
        "\n",
        "model_speech = Sequential()\n",
        "model_speech.add(Flatten(input_shape=(100, 34)))\n",
        "model_speech.add(Dense(1024))\n",
        "model_speech.add(Activation('relu'))\n",
        "model_speech.add(Dropout(0.2))\n",
        "model_speech.add(Dense(512))\n",
        "model_speech.add(Activation('relu'))\n",
        "model_speech.add(Dropout(0.2))\n",
        "model_speech.add(Dense(256))\n",
        "\n",
        "\n",
        "model_combined = Sequential()\n",
        "#model_combined.add(concatenate([model_text, model_speech]))\n",
        "merged = Concatenate([model_text, model_speech])\n",
        "model_combined.add(merged)\n",
        "\n",
        "model_combined.add(Activation('relu'))\n",
        "model_combined.add(Dense(256))\n",
        "model_combined.add(Activation('relu'))\n",
        "\n",
        "model_combined.add(Dense(4))\n",
        "model_combined.add(Activation('softmax'))\n",
        "\n",
        "#sgd = optimizers.SGD(lr=0.001, decay=1e-6, momentum=0.9, nesterov=True)\n",
        "model_combined.compile(loss='categorical_crossentropy',optimizer='adam' ,metrics=['acc'])\n",
        "\n",
        "## compille it here according to instructions\n",
        "\n",
        "#model.compile()\n",
        "model_speech.summary()\n",
        "model_text.summary()\n",
        "#model_combined.summary()\n",
        "\n",
        "print(\"Model1 Built\")"
      ],
      "execution_count": null,
      "outputs": [
        {
          "output_type": "stream",
          "text": [
            "Model: \"sequential_23\"\n",
            "_________________________________________________________________\n",
            "Layer (type)                 Output Shape              Param #   \n",
            "=================================================================\n",
            "flatten_15 (Flatten)         (None, 3400)              0         \n",
            "_________________________________________________________________\n",
            "dense_47 (Dense)             (None, 1024)              3482624   \n",
            "_________________________________________________________________\n",
            "activation_33 (Activation)   (None, 1024)              0         \n",
            "_________________________________________________________________\n",
            "dropout_30 (Dropout)         (None, 1024)              0         \n",
            "_________________________________________________________________\n",
            "dense_48 (Dense)             (None, 512)               524800    \n",
            "_________________________________________________________________\n",
            "activation_34 (Activation)   (None, 512)               0         \n",
            "_________________________________________________________________\n",
            "dropout_31 (Dropout)         (None, 512)               0         \n",
            "_________________________________________________________________\n",
            "dense_49 (Dense)             (None, 256)               131328    \n",
            "=================================================================\n",
            "Total params: 4,138,752\n",
            "Trainable params: 4,138,752\n",
            "Non-trainable params: 0\n",
            "_________________________________________________________________\n",
            "Model: \"sequential_22\"\n",
            "_________________________________________________________________\n",
            "Layer (type)                 Output Shape              Param #   \n",
            "=================================================================\n",
            "embedding_7 (Embedding)      (None, 50, 128)           350208    \n",
            "_________________________________________________________________\n",
            "flatten_14 (Flatten)         (None, 6400)              0         \n",
            "_________________________________________________________________\n",
            "dense_44 (Dense)             (None, 1024)              6554624   \n",
            "_________________________________________________________________\n",
            "activation_31 (Activation)   (None, 1024)              0         \n",
            "_________________________________________________________________\n",
            "dropout_28 (Dropout)         (None, 1024)              0         \n",
            "_________________________________________________________________\n",
            "dense_45 (Dense)             (None, 512)               524800    \n",
            "_________________________________________________________________\n",
            "activation_32 (Activation)   (None, 512)               0         \n",
            "_________________________________________________________________\n",
            "dropout_29 (Dropout)         (None, 512)               0         \n",
            "_________________________________________________________________\n",
            "dense_46 (Dense)             (None, 256)               131328    \n",
            "=================================================================\n",
            "Total params: 7,560,960\n",
            "Trainable params: 7,560,960\n",
            "Non-trainable params: 0\n",
            "_________________________________________________________________\n",
            "Model1 Built\n"
          ],
          "name": "stdout"
        }
      ]
    },
    {
      "cell_type": "code",
      "metadata": {
        "id": "kqSrl2PVdt6I"
      },
      "source": [
        "hist = model_combined.fit([ptdl,ddl], yy, \n",
        "                 batch_size=64, epochs=60, verbose=1, \n",
        "                 validation_split=0.2)"
      ],
      "execution_count": null,
      "outputs": []
    },
    {
      "cell_type": "code",
      "metadata": {
        "id": "dTD5f75SkBYm"
      },
      "source": [
        ""
      ],
      "execution_count": null,
      "outputs": []
    }
  ]
}